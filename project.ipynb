{
 "metadata": {
  "language_info": {
   "codemirror_mode": {
    "name": "ipython",
    "version": 3
   },
   "file_extension": ".py",
   "mimetype": "text/x-python",
   "name": "python",
   "nbconvert_exporter": "python",
   "pygments_lexer": "ipython3",
   "version": "3.9.1"
  },
  "orig_nbformat": 2,
  "kernelspec": {
   "name": "python3",
   "display_name": "Python 3",
   "language": "python"
  }
 },
 "nbformat": 4,
 "nbformat_minor": 2,
 "cells": [
  {
   "cell_type": "code",
   "execution_count": 73,
   "metadata": {},
   "outputs": [],
   "source": [
    "import cvxpy as cp\n",
    "import numpy as np\n",
    "import random\n",
    "import time"
   ]
  },
  {
   "cell_type": "code",
   "execution_count": 107,
   "metadata": {},
   "outputs": [],
   "source": [
    "def get_date(n = 10,m = 3,sumc = 9):\n",
    "    value = cp.Parameter(shape=(n,m))\n",
    "    capacity = cp.Parameter(m)\n",
    "    #value.value = np.random.rand(n,m)\n",
    "    value.value = np.random.randint(1,9,size=(n,m))\n",
    "    capacity.value = np.random.randint(1,sumc/m,size=m)\n",
    "    return value, capacity\n",
    "\n",
    "value, capacity = get_date()\n",
    "#print(value.value)\n",
    "#print(capacity.value)"
   ]
  },
  {
   "cell_type": "code",
   "execution_count": 108,
   "metadata": {},
   "outputs": [
    {
     "output_type": "stream",
     "name": "stdout",
     "text": [
      "23\n(23, [3, 2, 8, 7], [0, 2, 2, 1])\nCPU times: user 607 µs, sys: 0 ns, total: 607 µs\nWall time: 413 µs\n"
     ]
    }
   ],
   "source": [
    "%%time\n",
    "def Random(value,capacity):\n",
    "    value,capacity = value.value,capacity.value\n",
    "    n, m = len(value), len(capacity)\n",
    "    sumc = sum(capacity)\n",
    "    rand = random.sample(range(1,n),sumc)\n",
    "    assign = [0 for i in range(m)]\n",
    "    ans = 0\n",
    "    result = [0 for i in range(sumc)]\n",
    "    for i in range(sumc):\n",
    "        tmp = 0\n",
    "        for j in range(m):\n",
    "            if value[rand[i]][j] > tmp and assign[j]<capacity[j]:\n",
    "                result[i],tmp = j,value[rand[i]][j]\n",
    "        assign[result[i]] += 1\n",
    "        ans += tmp\n",
    "    print(ans)\n",
    "    return ans,rand[:sumc],result\n",
    "    \n",
    "print(Random(value,capacity))"
   ]
  },
  {
   "cell_type": "code",
   "execution_count": 109,
   "metadata": {},
   "outputs": [
    {
     "output_type": "stream",
     "name": "stdout",
     "text": [
      "30.0\nCPU times: user 601 µs, sys: 47 µs, total: 648 µs\nWall time: 474 µs\n"
     ]
    }
   ],
   "source": [
    "%%time\n",
    "def DP(value,capacity):\n",
    "    value,capacity = value.value,capacity.value\n",
    "    n, m = len(value), len(capacity)\n",
    "    mi = [1]\n",
    "    for i in range(1,m+1):\n",
    "        mi.append(mi[i-1]*(capacity[m-i]+1))\n",
    "    f = np.zeros(mi[m])\n",
    "    for i in range(n):\n",
    "        for j in range(mi[m]-1,-1,-1):   \n",
    "            for k in range(m):\n",
    "                if ((j%mi[m-k])//mi[m-k-1]>0):        \n",
    "                    f[j] = max(f[j],f[j-mi[m-k-1]]+value[i,k])\n",
    "    return f[mi[m]-1]\n",
    "\n",
    "print(DP(value,capacity))"
   ]
  },
  {
   "cell_type": "code",
   "execution_count": 110,
   "metadata": {},
   "outputs": [
    {
     "output_type": "stream",
     "name": "stdout",
     "text": [
      "30.0\n(array([[0., 0., 1.],\n       [0., 1., 0.],\n       [0., 0., 0.],\n       [1., 0., 0.],\n       [0., 0., 0.],\n       [0., 0., 0.],\n       [0., 0., 1.],\n       [0., 0., 0.],\n       [0., 0., 0.],\n       [0., 0., 0.]]), 30.0)\nCPU times: user 3.74 ms, sys: 10.4 ms, total: 14.2 ms\nWall time: 9.96 ms\n"
     ]
    }
   ],
   "source": [
    "%%time\n",
    "\n",
    "def Opt(value,capacity):\n",
    "    n, m = len(value.value), len(capacity.value)\n",
    "    x = cp.Variable(shape=(n,m),boolean=True)\n",
    "    object = cp.Maximize(cp.sum(cp.multiply(value,x)))\n",
    "    constrains = [cp.sum(x,0)<=capacity,cp.sum(x,1)<=1]\n",
    "    prob = cp.Problem(object,constrains)\n",
    "    prob.solve('GLPK_MI',verbose=True) # ECOS_BB CBC\n",
    "    if prob.status == 'optimal':\n",
    "        print(prob.value)\n",
    "        return x.value,prob.value\n",
    "\n",
    "print(Opt(value,capacity))\n",
    "\n"
   ]
  },
  {
   "cell_type": "code",
   "execution_count": 113,
   "metadata": {},
   "outputs": [
    {
     "output_type": "stream",
     "name": "stdout",
     "text": [
      "(None, 30.0)\nCPU times: user 27.4 ms, sys: 420 µs, total: 27.8 ms\nWall time: 23.9 ms\n"
     ]
    }
   ],
   "source": [
    "%%time\n",
    "\n",
    "def Opt_dual(value,capacity):\n",
    "    n, m = len(value.value), len(capacity.value)\n",
    "    lamb = cp.Variable(n,nonneg=True)\n",
    "    nu = cp.Variable(m,nonneg=True)\n",
    "    object = cp.Minimize(cp.sum(lamb)+cp.sum(cp.multiply(capacity,nu)))\n",
    "    constrains = [cp.vstack([cp.hstack([lamb[i]+nu[j] for j in range(m)]) for i in range(n)]) >= value]\n",
    "    prob = cp.Problem(object,constrains)\n",
    "    prob.solve('GLPK_MI',verbose=True) # ECOS_BB CBC\n",
    "    if prob.status == 'optimal':\n",
    "        return constrains[0].dual_value,prob.value\n",
    "\n",
    "print(Opt_dual(value,capacity))"
   ]
  },
  {
   "cell_type": "code",
   "execution_count": 103,
   "metadata": {},
   "outputs": [],
   "source": [
    "def get_time(f,value,capacity):\n",
    "    start = time.perf_counter()\n",
    "    f(value,capacity)\n",
    "    end = time.perf_counter()\n",
    "    return end-start\n",
    "\n",
    "def get_times(n = 10,m = 3, sumc = 9):\n",
    "    t = []\n",
    "    value, capacity = get_date(n,m,sumc)\n",
    "    t.append(get_time(Random,value,capacity))\n",
    "    #t.append(get_time(DP,value,capacity))\n",
    "    t.append(get_time(Opt,value,capacity))\n",
    "    #t.append(get_time(Opt_dual,value,capacity))\n",
    "    return t"
   ]
  },
  {
   "cell_type": "code",
   "execution_count": 104,
   "metadata": {},
   "outputs": [
    {
     "output_type": "stream",
     "name": "stdout",
     "text": [
      "26\n",
      "31.0\n",
      "[0.0002103000006172806, 0.008740600002056453]\n",
      "78\n",
      "103.0\n",
      "[0.0006311999968602322, 0.018989299998793285]\n",
      "489\n",
      "672.0\n",
      "[0.00033460000122431666, 0.4784049000008963]\n",
      "323\n",
      "367.0\n",
      "[0.0004371999966679141, 0.04229180000402266]\n",
      "2693\n",
      "3056.0\n",
      "[0.0012257000053068623, 2.592032399996242]\n"
     ]
    }
   ],
   "source": [
    "parm = [[10,3,9],[100,3,30],[1000,3,300],[100,7,70],[1000,7,700]]\n",
    "for i in parm:\n",
    "    print(get_times(i[0],i[1],i[2]))\n"
   ]
  },
  {
   "cell_type": "code",
   "execution_count": 96,
   "metadata": {},
   "outputs": [
    {
     "output_type": "stream",
     "name": "stdout",
     "text": [
      "0.0006403999977919739\n",
      "0.13651499999832595\n",
      "22.497699999999895\n"
     ]
    }
   ],
   "source": [
    "for i in parm[0:-2]:\n",
    "    value, capacity = get_date(i[0],i[1],i[2])\n",
    "    print(get_time(DP,value,capacity))"
   ]
  },
  {
   "cell_type": "code",
   "execution_count": null,
   "metadata": {},
   "outputs": [],
   "source": [
    "%%time\n",
    "import cvxpy as cp\n",
    "import numpy as np\n",
    "\n",
    "n = 10\n",
    "m = 3\n",
    "value = cp.Parameter(n*m)\n",
    "capacity = cp.Parameter(n+m)\n",
    "A = cp.Parameter(shape=(n+m,m*n))\n",
    "value.value = np.random.rand(n*m)\n",
    "capacity.value = np.random.randint(1,3,size=m+n)\n",
    "for i in range(n+m):\n",
    "    if i<n:\n",
    "        capacity.value[i] = 1\n",
    "    else:\n",
    "        capacity.value[i] = np.random.randint(1,3)\n",
    "A.value = np.zeros((n+m,n*m))\n",
    "for i in range(n):\n",
    "    for j in range(m):\n",
    "        A.value[i][i*m+j] = 1\n",
    "for i in range(n,m+n):\n",
    "    for j in range(n):\n",
    "        A.value[i][j*m+i-n] = 1"
   ]
  },
  {
   "cell_type": "code",
   "execution_count": null,
   "metadata": {},
   "outputs": [],
   "source": [
    "%%time\n",
    "x = cp.Variable(shape=(n*m),nonneg=True)\n",
    "object = cp.Minimize(cp.sum(cp.multiply(-value,x)))\n",
    "constrains = [-A@x>=-capacity]\n",
    "prob = cp.Problem(object,constrains)\n",
    "prob.solve()\n",
    "print(prob.status)\n",
    "print(prob.value)"
   ]
  },
  {
   "cell_type": "code",
   "execution_count": null,
   "metadata": {},
   "outputs": [],
   "source": [
    "%%time\n",
    "lamb = cp.Variable(shape=(m+n),nonneg=True)\n",
    "object = cp.Minimize(cp.sum(cp.multiply(capacity,lamb)))\n",
    "constrains = [A.T@lamb>=value]\n",
    "prob = cp.Problem(object,constrains)\n",
    "prob.solve()\n",
    "print(prob.status)\n",
    "print(prob.value)"
   ]
  },
  {
   "cell_type": "code",
   "execution_count": null,
   "metadata": {
    "tags": []
   },
   "outputs": [],
   "source": [
    "%%time\n",
    "\n",
    "assert m==3,\"m != 3\"\n",
    "\n",
    "f = np.zeros(tuple(capacity.value+1))\n",
    "for i in range(n):\n",
    "    for j in range(capacity.value[0],-1,-1):\n",
    "        for k in range(capacity.value[1],-1,-1):\n",
    "            for l in range(capacity.value[2],-1,-1):\n",
    "                if (j):\n",
    "                    f[j][k][l] = max(f[j][k][l],f[j-1][k][l]+value.value[i,0])\n",
    "                if (k):\n",
    "                    f[j][k][l] = max(f[j][k][l],f[j][k-1][l]+value.value[i,1])\n",
    "                if (l):\n",
    "                    f[j][k][l] = max(f[j][k][l],f[j][k][l-1]+value.value[i,2])\n",
    "\n",
    "print(f[capacity.value[0]][capacity.value[1]][capacity.value[2]])\n",
    "#print(f)"
   ]
  },
  {
   "cell_type": "code",
   "execution_count": null,
   "metadata": {},
   "outputs": [],
   "source": [
    "%%time\n",
    "\n",
    "assert m==3,\"m != 3\"\n",
    "\n",
    "f = np.zeros((n+1,)+tuple(capacity.value+1))\n",
    "for i in range(1,n+1):\n",
    "    for j in range(0,capacity.value[0]+1,1):\n",
    "        for k in range(0,capacity.value[1]+1,1):\n",
    "            for l in range(0,capacity.value[2]+1,1):\n",
    "                f[i][j][k][l] = f[i-1][j][k][l]\n",
    "                if (j):\n",
    "                    f[i][j][k][l] = max(f[i][j][k][l],f[i-1][j-1][k][l]+value.value[i-1,0])\n",
    "                if (k):\n",
    "                    f[i][j][k][l] = max(f[i][j][k][l],f[i-1][j][k-1][l]+value.value[i-1,1])\n",
    "                if (l):\n",
    "                    f[i][j][k][l] = max(f[i][j][k][l],f[i-1][j][k][l-1]+value.value[i-1,2])\n",
    "\n",
    "print(f[n][capacity.value[0]][capacity.value[1]][capacity.value[2]])"
   ]
  }
 ]
}